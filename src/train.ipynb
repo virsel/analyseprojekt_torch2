{
 "cells": [
  {
   "cell_type": "code",
   "execution_count": 1,
   "metadata": {},
   "outputs": [],
   "source": [
    "import torch.nn as nn\n",
    "import torch\n",
    "import torch.optim as optim\n",
    "import torch.nn.functional as F\n",
    "from model import SimpleNN, HyperParams\n",
    "from data import load_data\n",
    "import config as m_config"
   ]
  },
  {
   "cell_type": "code",
   "execution_count": 2,
   "metadata": {},
   "outputs": [
    {
     "name": "stdout",
     "output_type": "stream",
     "text": [
      "False\n",
      "None\n"
     ]
    }
   ],
   "source": [
    "print(torch.cuda.is_available())\n",
    "print(torch.version.cuda)"
   ]
  },
  {
   "cell_type": "code",
   "execution_count": 3,
   "metadata": {},
   "outputs": [],
   "source": [
    "config = m_config.get_default_config()"
   ]
  },
  {
   "cell_type": "code",
   "execution_count": 4,
   "metadata": {},
   "outputs": [
    {
     "name": "stdout",
     "output_type": "stream",
     "text": [
      "Rise threshold: 0.5194457065059035\n"
     ]
    }
   ],
   "source": [
    "train_loader, val_loader, test_loader = load_data()"
   ]
  },
  {
   "cell_type": "code",
   "execution_count": 5,
   "metadata": {},
   "outputs": [
    {
     "data": {
      "text/plain": [
       "(704, 125, 208)"
      ]
     },
     "execution_count": 5,
     "metadata": {},
     "output_type": "execute_result"
    }
   ],
   "source": [
    "len(train_loader.dataset.data), len(val_loader.dataset.data), len(test_loader.dataset.data)"
   ]
  },
  {
   "cell_type": "code",
   "execution_count": 6,
   "metadata": {},
   "outputs": [],
   "source": [
    "hparams = HyperParams()"
   ]
  },
  {
   "cell_type": "code",
   "execution_count": 7,
   "metadata": {},
   "outputs": [],
   "source": [
    "# Initialize the model, loss function, and optimizer\n",
    "model = SimpleNN(config, params=hparams)\n",
    "model.setup_criterion()\n",
    "model.initialize_from_ckp()"
   ]
  },
  {
   "cell_type": "code",
   "execution_count": 8,
   "metadata": {},
   "outputs": [
    {
     "name": "stdout",
     "output_type": "stream",
     "text": [
      "Epoch 1/100, Train Loss: 68.3974, Val Loss: 90.4571, Val acc: 0.5280, Val mcc: 0.0000\n",
      "New best model saved: ..\\output\\v2\\checkpoints\\model_epoch_0_loss_90.4571_acc_0.5280.pth\n",
      "Epoch 2/100, Train Loss: 60.9557, Val Loss: 47.4854, Val acc: 0.5280, Val mcc: 0.0000\n",
      "New best model saved: ..\\output\\v2\\checkpoints\\model_epoch_1_loss_47.4854_acc_0.5280.pth\n",
      "Epoch 3/100, Train Loss: 56.7825, Val Loss: 49.6867, Val acc: 0.5040, Val mcc: -0.0042\n",
      "Epoch 4/100, Train Loss: 55.7231, Val Loss: 47.3593, Val acc: 0.5280, Val mcc: 0.0000\n",
      "New best model saved: ..\\output\\v2\\checkpoints\\model_epoch_3_loss_47.3593_acc_0.5280.pth\n",
      "Epoch 5/100, Train Loss: 53.6892, Val Loss: 48.8539, Val acc: 0.5120, Val mcc: 0.0573\n",
      "Epoch 6/100, Train Loss: 51.8073, Val Loss: 51.2402, Val acc: 0.4880, Val mcc: -0.0370\n",
      "Epoch 7/100, Train Loss: 49.8107, Val Loss: 46.4686, Val acc: 0.5360, Val mcc: 0.0523\n",
      "New best model saved: ..\\output\\v2\\checkpoints\\model_epoch_6_loss_46.4686_acc_0.5360.pth\n",
      "Epoch 8/100, Train Loss: 51.5540, Val Loss: 44.0578, Val acc: 0.5600, Val mcc: 0.1150\n",
      "New best model saved: ..\\output\\v2\\checkpoints\\model_epoch_7_loss_44.0578_acc_0.5600.pth\n",
      "Epoch 9/100, Train Loss: 50.5150, Val Loss: 45.6551, Val acc: 0.5440, Val mcc: 0.0772\n",
      "Epoch 10/100, Train Loss: 49.1668, Val Loss: 47.3484, Val acc: 0.5280, Val mcc: 0.0473\n",
      "Epoch 11/100, Train Loss: 49.2544, Val Loss: 44.8949, Val acc: 0.5520, Val mcc: 0.0885\n",
      "Epoch 12/100, Train Loss: 47.8457, Val Loss: 48.8743, Val acc: 0.5120, Val mcc: -0.0107\n",
      "Epoch 13/100, Train Loss: 50.6604, Val Loss: 50.4478, Val acc: 0.4960, Val mcc: -0.0326\n",
      "Epoch 14/100, Train Loss: 52.0389, Val Loss: 53.6550, Val acc: 0.4640, Val mcc: -0.1596\n",
      "Epoch 15/100, Train Loss: 51.3115, Val Loss: 51.2374, Val acc: 0.4880, Val mcc: -0.1240\n",
      "Epoch 16/100, Train Loss: 51.5707, Val Loss: 48.8337, Val acc: 0.5120, Val mcc: -0.0508\n",
      "Epoch 17/100, Train Loss: 50.8820, Val Loss: 51.2255, Val acc: 0.4880, Val mcc: -0.1240\n",
      "Epoch 18/100, Train Loss: 46.5814, Val Loss: 48.0236, Val acc: 0.5200, Val mcc: 0.0014\n",
      "Epoch 19/100, Train Loss: 48.6949, Val Loss: 46.4216, Val acc: 0.5360, Val mcc: 0.0481\n",
      "Epoch 20/100, Train Loss: 51.2569, Val Loss: 51.2221, Val acc: 0.4880, Val mcc: -0.1240\n",
      "Epoch 21/100, Train Loss: 46.4180, Val Loss: 55.2163, Val acc: 0.4480, Val mcc: -0.1152\n",
      "Epoch 22/100, Train Loss: 52.9520, Val Loss: 54.4178, Val acc: 0.4560, Val mcc: -0.0978\n",
      "Epoch 23/100, Train Loss: 50.8177, Val Loss: 53.6155, Val acc: 0.4640, Val mcc: -0.0805\n",
      "Epoch 24/100, Train Loss: 50.0999, Val Loss: 52.8146, Val acc: 0.4720, Val mcc: -0.0633\n",
      "Epoch 25/100, Train Loss: 50.2378, Val Loss: 56.0134, Val acc: 0.4400, Val mcc: -0.1328\n",
      "Epoch 26/100, Train Loss: 47.2454, Val Loss: 52.0129, Val acc: 0.4800, Val mcc: -0.0423\n",
      "Epoch 27/100, Train Loss: 46.9641, Val Loss: 55.2106, Val acc: 0.4480, Val mcc: -0.1413\n",
      "Epoch 28/100, Train Loss: 52.4938, Val Loss: 52.0108, Val acc: 0.4800, Val mcc: -0.1325\n",
      "Epoch 29/100, Train Loss: 46.8124, Val Loss: 53.6110, Val acc: 0.4640, Val mcc: -0.1704\n",
      "Epoch 30/100, Train Loss: 47.5386, Val Loss: 50.4121, Val acc: 0.4960, Val mcc: -0.1016\n",
      "Epoch 31/100, Train Loss: 50.2215, Val Loss: 50.4119, Val acc: 0.4960, Val mcc: -0.1016\n",
      "Epoch 32/100, Train Loss: 50.3496, Val Loss: 46.4122, Val acc: 0.5360, Val mcc: 0.0611\n",
      "Epoch 33/100, Train Loss: 49.9423, Val Loss: 47.2123, Val acc: 0.5280, Val mcc: 0.0102\n",
      "Epoch 34/100, Train Loss: 46.5272, Val Loss: 47.2135, Val acc: 0.5280, Val mcc: 0.0102\n",
      "Epoch 35/100, Train Loss: 48.8000, Val Loss: 47.2129, Val acc: 0.5280, Val mcc: 0.0102\n",
      "Epoch 36/100, Train Loss: 49.9326, Val Loss: 47.2130, Val acc: 0.5280, Val mcc: 0.0102\n",
      "Epoch 37/100, Train Loss: 49.3516, Val Loss: 47.2132, Val acc: 0.5280, Val mcc: 0.0102\n",
      "Epoch 38/100, Train Loss: 52.6334, Val Loss: 48.0125, Val acc: 0.5200, Val mcc: -0.0294\n",
      "Epoch 39/100, Train Loss: 52.6292, Val Loss: 46.4153, Val acc: 0.5360, Val mcc: 0.0611\n",
      "Epoch 40/100, Train Loss: 49.9303, Val Loss: 47.2158, Val acc: 0.5280, Val mcc: 0.0102\n",
      "Epoch 41/100, Train Loss: 51.7772, Val Loss: 47.2165, Val acc: 0.5280, Val mcc: 0.0102\n",
      "Epoch 42/100, Train Loss: 54.4751, Val Loss: 46.4147, Val acc: 0.5360, Val mcc: 0.0611\n",
      "Epoch 43/100, Train Loss: 47.6533, Val Loss: 46.4160, Val acc: 0.5360, Val mcc: 0.0611\n",
      "Epoch 44/100, Train Loss: 48.3697, Val Loss: 47.2138, Val acc: 0.5280, Val mcc: 0.0102\n",
      "Epoch 45/100, Train Loss: 49.7817, Val Loss: 46.4159, Val acc: 0.5360, Val mcc: 0.0611\n",
      "Epoch 46/100, Train Loss: 51.5083, Val Loss: 46.4170, Val acc: 0.5360, Val mcc: 0.0611\n",
      "Epoch 47/100, Train Loss: 49.9335, Val Loss: 47.2167, Val acc: 0.5280, Val mcc: 0.0102\n",
      "Epoch 48/100, Train Loss: 50.9265, Val Loss: 46.4169, Val acc: 0.5360, Val mcc: 0.0611\n",
      "Epoch 49/100, Train Loss: 50.0795, Val Loss: 46.4172, Val acc: 0.5360, Val mcc: 0.0611\n",
      "Epoch 50/100, Train Loss: 47.0814, Val Loss: 46.4177, Val acc: 0.5360, Val mcc: 0.0611\n",
      "Epoch 51/100, Train Loss: 49.0668, Val Loss: 46.4164, Val acc: 0.5360, Val mcc: 0.0611\n",
      "Epoch 52/100, Train Loss: 51.4810, Val Loss: 47.2158, Val acc: 0.5280, Val mcc: 0.0102\n",
      "Epoch 53/100, Train Loss: 51.9129, Val Loss: 46.4147, Val acc: 0.5360, Val mcc: 0.0611\n",
      "Epoch 54/100, Train Loss: 50.3562, Val Loss: 46.4153, Val acc: 0.5360, Val mcc: 0.0611\n",
      "Epoch 55/100, Train Loss: 46.5147, Val Loss: 47.2162, Val acc: 0.5280, Val mcc: 0.0102\n",
      "Epoch 56/100, Train Loss: 52.7606, Val Loss: 46.4163, Val acc: 0.5360, Val mcc: 0.0611\n",
      "Epoch 57/100, Train Loss: 48.3604, Val Loss: 47.2155, Val acc: 0.5280, Val mcc: 0.0102\n",
      "Epoch 58/100, Train Loss: 53.0532, Val Loss: 46.4166, Val acc: 0.5360, Val mcc: 0.0611\n",
      "Epoch 59/100, Train Loss: 48.7868, Val Loss: 46.4176, Val acc: 0.5360, Val mcc: 0.0611\n",
      "Epoch 60/100, Train Loss: 49.0825, Val Loss: 46.4166, Val acc: 0.5360, Val mcc: 0.0611\n",
      "Epoch 61/100, Train Loss: 52.2058, Val Loss: 46.4164, Val acc: 0.5360, Val mcc: 0.0611\n",
      "Epoch 62/100, Train Loss: 48.5048, Val Loss: 46.4176, Val acc: 0.5360, Val mcc: 0.0611\n",
      "Epoch 63/100, Train Loss: 51.2098, Val Loss: 46.4166, Val acc: 0.5360, Val mcc: 0.0611\n",
      "Epoch 64/100, Train Loss: 51.6245, Val Loss: 47.2170, Val acc: 0.5280, Val mcc: 0.0102\n",
      "Epoch 65/100, Train Loss: 50.4955, Val Loss: 48.0179, Val acc: 0.5200, Val mcc: -0.0294\n",
      "Epoch 66/100, Train Loss: 50.7857, Val Loss: 49.6161, Val acc: 0.5040, Val mcc: -0.0909\n",
      "Epoch 67/100, Train Loss: 52.7718, Val Loss: 47.2145, Val acc: 0.5280, Val mcc: 0.0102\n",
      "Epoch 68/100, Train Loss: 51.1948, Val Loss: 46.4157, Val acc: 0.5360, Val mcc: 0.0611\n",
      "Epoch 69/100, Train Loss: 48.0822, Val Loss: 47.2154, Val acc: 0.5280, Val mcc: 0.0102\n",
      "Epoch 70/100, Train Loss: 51.3499, Val Loss: 46.4173, Val acc: 0.5360, Val mcc: 0.0611\n",
      "Epoch 71/100, Train Loss: 49.2219, Val Loss: 47.2154, Val acc: 0.5280, Val mcc: 0.0102\n",
      "Epoch 72/100, Train Loss: 51.9115, Val Loss: 46.4160, Val acc: 0.5360, Val mcc: 0.0611\n",
      "Epoch 73/100, Train Loss: 50.9158, Val Loss: 47.2169, Val acc: 0.5280, Val mcc: 0.0102\n",
      "Epoch 74/100, Train Loss: 49.9307, Val Loss: 46.4161, Val acc: 0.5360, Val mcc: 0.0611\n",
      "Epoch 75/100, Train Loss: 51.3475, Val Loss: 46.4182, Val acc: 0.5360, Val mcc: 0.0611\n",
      "Epoch 76/100, Train Loss: 48.0715, Val Loss: 46.4170, Val acc: 0.5360, Val mcc: 0.0611\n",
      "Epoch 77/100, Train Loss: 48.2287, Val Loss: 46.4175, Val acc: 0.5360, Val mcc: 0.0611\n",
      "Epoch 78/100, Train Loss: 49.3579, Val Loss: 46.4157, Val acc: 0.5360, Val mcc: 0.0611\n",
      "Epoch 79/100, Train Loss: 48.0795, Val Loss: 47.2175, Val acc: 0.5280, Val mcc: 0.0102\n",
      "Epoch 80/100, Train Loss: 50.0746, Val Loss: 48.0158, Val acc: 0.5200, Val mcc: -0.0294\n",
      "Epoch 81/100, Train Loss: 49.6382, Val Loss: 46.4165, Val acc: 0.5360, Val mcc: 0.0611\n",
      "Epoch 82/100, Train Loss: 51.7773, Val Loss: 46.4157, Val acc: 0.5360, Val mcc: 0.0611\n",
      "Epoch 83/100, Train Loss: 49.6443, Val Loss: 46.4167, Val acc: 0.5360, Val mcc: 0.0611\n",
      "Epoch 84/100, Train Loss: 50.7750, Val Loss: 47.2159, Val acc: 0.5280, Val mcc: 0.0102\n",
      "Epoch 85/100, Train Loss: 50.2156, Val Loss: 48.8139, Val acc: 0.5120, Val mcc: -0.0508\n",
      "Epoch 86/100, Train Loss: 49.6426, Val Loss: 47.2167, Val acc: 0.5280, Val mcc: 0.0102\n",
      "Epoch 87/100, Train Loss: 49.0821, Val Loss: 46.4163, Val acc: 0.5360, Val mcc: 0.0611\n",
      "Epoch 88/100, Train Loss: 48.0856, Val Loss: 46.4169, Val acc: 0.5360, Val mcc: 0.0611\n",
      "Epoch 89/100, Train Loss: 49.9308, Val Loss: 47.2163, Val acc: 0.5280, Val mcc: 0.0102\n",
      "Epoch 90/100, Train Loss: 47.0898, Val Loss: 47.2164, Val acc: 0.5280, Val mcc: 0.0102\n",
      "Epoch 91/100, Train Loss: 51.7727, Val Loss: 47.2149, Val acc: 0.5280, Val mcc: 0.0102\n",
      "Epoch 92/100, Train Loss: 50.0724, Val Loss: 47.2152, Val acc: 0.5280, Val mcc: 0.0102\n",
      "Epoch 93/100, Train Loss: 53.3397, Val Loss: 47.2159, Val acc: 0.5280, Val mcc: 0.0102\n",
      "Epoch 94/100, Train Loss: 47.8072, Val Loss: 47.2157, Val acc: 0.5280, Val mcc: 0.0102\n",
      "Epoch 95/100, Train Loss: 53.2014, Val Loss: 47.2147, Val acc: 0.5280, Val mcc: 0.0102\n",
      "Epoch 96/100, Train Loss: 51.6480, Val Loss: 46.4160, Val acc: 0.5360, Val mcc: 0.0611\n",
      "Epoch 97/100, Train Loss: 52.7742, Val Loss: 46.4154, Val acc: 0.5360, Val mcc: 0.0611\n",
      "Epoch 98/100, Train Loss: 49.5032, Val Loss: 48.0150, Val acc: 0.5200, Val mcc: -0.0294\n",
      "Epoch 99/100, Train Loss: 49.4999, Val Loss: 51.2148, Val acc: 0.4880, Val mcc: -0.1026\n",
      "Epoch 100/100, Train Loss: 44.5241, Val Loss: 46.4154, Val acc: 0.5360, Val mcc: 0.0611\n"
     ]
    }
   ],
   "source": [
    "model.fit(train_loader, val_loader, test_loader)"
   ]
  },
  {
   "cell_type": "code",
   "execution_count": 10,
   "metadata": {},
   "outputs": [
    {
     "name": "stdout",
     "output_type": "stream",
     "text": [
      "Resuming from checkpoint: ..\\output\\v2\\checkpoints\\model_epoch_7_loss_44.0578_acc_0.5600.pth\n",
      "Loss: 44.7544, acc: 0.5529, mcc: 0.1009\n"
     ]
    }
   ],
   "source": [
    "model.test(test_loader)"
   ]
  }
 ],
 "metadata": {
  "kernelspec": {
   "display_name": "ml_angew_programm",
   "language": "python",
   "name": "python3"
  },
  "language_info": {
   "codemirror_mode": {
    "name": "ipython",
    "version": 3
   },
   "file_extension": ".py",
   "mimetype": "text/x-python",
   "name": "python",
   "nbconvert_exporter": "python",
   "pygments_lexer": "ipython3",
   "version": "3.8.19"
  }
 },
 "nbformat": 4,
 "nbformat_minor": 2
}
